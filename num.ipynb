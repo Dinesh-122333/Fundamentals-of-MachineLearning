{
 "cells": [
  {
   "cell_type": "code",
   "execution_count": 2,
   "id": "9b66ea7e",
   "metadata": {},
   "outputs": [],
   "source": [
    "import numpy as np\n"
   ]
  },
  {
   "cell_type": "code",
   "execution_count": 19,
   "id": "922c999c",
   "metadata": {},
   "outputs": [
    {
     "name": "stdout",
     "output_type": "stream",
     "text": [
      "[[1 2 3 4 5 6 7]\n",
      " [7 6 5 4 3 2 1]]\n"
     ]
    }
   ],
   "source": [
    "#printing array in numpy\n",
    "a= np.array([[1,2,3,4,5,6,7],\n",
    "            [7,6,5,4,3,2,1]])\n",
    "print(a)"
   ]
  },
  {
   "cell_type": "code",
   "execution_count": 17,
   "id": "97c58174",
   "metadata": {},
   "outputs": [
    {
     "name": "stdout",
     "output_type": "stream",
     "text": [
      "[[1 4 5]\n",
      " [2 5 7]\n",
      " [1 7 8]\n",
      " [7 7 7]]\n"
     ]
    }
   ],
   "source": [
    "#multidimension array\n",
    "c= np.array([[1,4,5],[2,5,7],[1,7,8],[7,7,7]])\n",
    "print(c)"
   ]
  },
  {
   "cell_type": "code",
   "execution_count": 5,
   "id": "ba5d4b8c",
   "metadata": {},
   "outputs": [
    {
     "data": {
      "text/plain": [
       "2"
      ]
     },
     "execution_count": 5,
     "metadata": {},
     "output_type": "execute_result"
    }
   ],
   "source": [
    "#get dimension\n",
    "c.ndim"
   ]
  },
  {
   "cell_type": "code",
   "execution_count": 6,
   "id": "cfd2bc7c",
   "metadata": {},
   "outputs": [
    {
     "data": {
      "text/plain": [
       "(4, 3)"
      ]
     },
     "execution_count": 6,
     "metadata": {},
     "output_type": "execute_result"
    }
   ],
   "source": [
    "#strucure\n",
    "c.shape"
   ]
  },
  {
   "cell_type": "code",
   "execution_count": 7,
   "id": "1e8a17c4",
   "metadata": {},
   "outputs": [
    {
     "data": {
      "text/plain": [
       "dtype('int32')"
      ]
     },
     "execution_count": 7,
     "metadata": {},
     "output_type": "execute_result"
    }
   ],
   "source": [
    "#type\n",
    "c.dtype"
   ]
  },
  {
   "cell_type": "code",
   "execution_count": 8,
   "id": "13db5cfc",
   "metadata": {},
   "outputs": [
    {
     "data": {
      "text/plain": [
       "12"
      ]
     },
     "execution_count": 8,
     "metadata": {},
     "output_type": "execute_result"
    }
   ],
   "source": [
    "#get totalsize\n",
    "c.size\n"
   ]
  },
  {
   "cell_type": "code",
   "execution_count": 9,
   "id": "07e2e2fa",
   "metadata": {},
   "outputs": [
    {
     "name": "stdout",
     "output_type": "stream",
     "text": [
      "[[1 2 3 4]\n",
      " [5 6 7 8]]\n"
     ]
    }
   ],
   "source": [
    "d=np.array([[1,2,3,4],[5,6,7,8]])\n",
    "print(d)"
   ]
  },
  {
   "cell_type": "code",
   "execution_count": 10,
   "id": "a30e9a06",
   "metadata": {},
   "outputs": [
    {
     "data": {
      "text/plain": [
       "8"
      ]
     },
     "execution_count": 10,
     "metadata": {},
     "output_type": "execute_result"
    }
   ],
   "source": [
    "#to get specific element[row,col]\n",
    "d[1,3]"
   ]
  },
  {
   "cell_type": "code",
   "execution_count": 11,
   "id": "76876488",
   "metadata": {},
   "outputs": [
    {
     "data": {
      "text/plain": [
       "array([5, 6, 7, 8])"
      ]
     },
     "execution_count": 11,
     "metadata": {},
     "output_type": "execute_result"
    }
   ],
   "source": [
    "#get specific row\n",
    "d[1, :]"
   ]
  },
  {
   "cell_type": "code",
   "execution_count": 12,
   "id": "3d0648aa",
   "metadata": {},
   "outputs": [
    {
     "data": {
      "text/plain": [
       "array([3, 7])"
      ]
     },
     "execution_count": 12,
     "metadata": {},
     "output_type": "execute_result"
    }
   ],
   "source": [
    "#to get specific colomun\n",
    "d[: ,2]"
   ]
  },
  {
   "cell_type": "code",
   "execution_count": 23,
   "id": "185ad53a",
   "metadata": {},
   "outputs": [
    {
     "data": {
      "text/plain": [
       "array([2, 4, 6])"
      ]
     },
     "execution_count": 23,
     "metadata": {},
     "output_type": "execute_result"
    }
   ],
   "source": [
    "#slicing[starting:end:step]\n",
    "e=np.array([[1,2,3,4,5,6,7],\n",
    "            [7,6,5,4,3,2,1]])\n",
    "e[1, 1:-2:2]\n",
    "e[0, 1:-1:2]"
   ]
  },
  {
   "cell_type": "code",
   "execution_count": 31,
   "id": "3809a57d",
   "metadata": {},
   "outputs": [
    {
     "name": "stdout",
     "output_type": "stream",
     "text": [
      "[[ 1  2  0  2 10  6  7]\n",
      " [ 7  6  0  3  3  2  1]]\n",
      "[[ 1  2  0  2 10  6  7]\n",
      " [ 7  6  0  3  3  2  1]]\n",
      "[[ 1  2  0  2 10  6  7]\n",
      " [ 7  6  0  3  3  2  1]]\n"
     ]
    }
   ],
   "source": [
    "#the element can change\n",
    "a[0,4]=10\n",
    "print(a)\n",
    "\n",
    "#change the column element\n",
    "a[: ,2]=0\n",
    "print(a)\n",
    "#also\n",
    "a[: ,3]=[2,3]\n",
    "print(a)"
   ]
  },
  {
   "cell_type": "code",
   "execution_count": 38,
   "id": "d194a359",
   "metadata": {},
   "outputs": [
    {
     "name": "stdout",
     "output_type": "stream",
     "text": [
      "[[[1 2]\n",
      "  [4 3]]\n",
      "\n",
      " [[5 6]\n",
      "  [8 7]]]\n"
     ]
    }
   ],
   "source": [
    "#3d array\n",
    "b=np.array([[[1,2],[4,3]],[[5,6],[8,7]]])\n",
    "print(b)\n",
    "\n"
   ]
  },
  {
   "cell_type": "code",
   "execution_count": 39,
   "id": "9432e2b3",
   "metadata": {},
   "outputs": [
    {
     "data": {
      "text/plain": [
       "5"
      ]
     },
     "execution_count": 39,
     "metadata": {},
     "output_type": "execute_result"
    }
   ],
   "source": [
    "#get a specify element(work outside in)\n",
    "b[1,0,0]"
   ]
  },
  {
   "cell_type": "code",
   "execution_count": 41,
   "id": "ded8815e",
   "metadata": {},
   "outputs": [
    {
     "data": {
      "text/plain": [
       "array([[4, 3],\n",
       "       [8, 7]])"
      ]
     },
     "execution_count": 41,
     "metadata": {},
     "output_type": "execute_result"
    }
   ],
   "source": [
    "#to seperate the 3d array to normal array\n",
    "b[:,1,:]"
   ]
  },
  {
   "cell_type": "code",
   "execution_count": 46,
   "id": "3872a4a3",
   "metadata": {},
   "outputs": [],
   "source": [
    "#replace\n",
    "b[:,1,:]=[[9,9],[8,8]]"
   ]
  },
  {
   "cell_type": "code",
   "execution_count": 47,
   "id": "2e9b1500",
   "metadata": {},
   "outputs": [
    {
     "data": {
      "text/plain": [
       "array([[[1, 2],\n",
       "        [9, 9]],\n",
       "\n",
       "       [[5, 6],\n",
       "        [8, 8]]])"
      ]
     },
     "execution_count": 47,
     "metadata": {},
     "output_type": "execute_result"
    }
   ],
   "source": [
    "b"
   ]
  },
  {
   "cell_type": "code",
   "execution_count": 49,
   "id": "0b3fa211",
   "metadata": {},
   "outputs": [
    {
     "data": {
      "text/plain": [
       "array([[0., 0., 0.],\n",
       "       [0., 0., 0.]])"
      ]
     },
     "execution_count": 49,
     "metadata": {},
     "output_type": "execute_result"
    }
   ],
   "source": [
    "#initialize\n",
    "# all zero matrix\n",
    "np.zeros((2,3))\n"
   ]
  },
  {
   "cell_type": "code",
   "execution_count": 51,
   "id": "9563fdba",
   "metadata": {},
   "outputs": [
    {
     "data": {
      "text/plain": [
       "array([[[0, 0, 0],\n",
       "        [0, 0, 0],\n",
       "        [0, 0, 0]],\n",
       "\n",
       "       [[0, 0, 0],\n",
       "        [0, 0, 0],\n",
       "        [0, 0, 0]]])"
      ]
     },
     "execution_count": 51,
     "metadata": {},
     "output_type": "execute_result"
    }
   ],
   "source": [
    "np.zeros((2,3,3),dtype='int32')"
   ]
  },
  {
   "cell_type": "code",
   "execution_count": 52,
   "id": "f858ce9f",
   "metadata": {},
   "outputs": [
    {
     "data": {
      "text/plain": [
       "array([[11, 11, 11],\n",
       "       [11, 11, 11]])"
      ]
     },
     "execution_count": 52,
     "metadata": {},
     "output_type": "execute_result"
    }
   ],
   "source": [
    "#any other number((shape),number)\n",
    "np.full((2,3),11)\n"
   ]
  },
  {
   "cell_type": "code",
   "execution_count": 54,
   "id": "6604d653",
   "metadata": {},
   "outputs": [
    {
     "data": {
      "text/plain": [
       "array([[3, 3, 3, 3, 3, 3, 3],\n",
       "       [3, 3, 3, 3, 3, 3, 3]])"
      ]
     },
     "execution_count": 54,
     "metadata": {},
     "output_type": "execute_result"
    }
   ],
   "source": [
    "#any other number(full_like)access the previous array\n",
    "np.full_like(a,4)\n",
    "#or\n",
    "np.full(a.shape,3)"
   ]
  },
  {
   "cell_type": "code",
   "execution_count": 55,
   "id": "eda4e64d",
   "metadata": {},
   "outputs": [
    {
     "data": {
      "text/plain": [
       "array([[0.63491855, 0.01709054, 0.7654843 ],\n",
       "       [0.50926436, 0.30392871, 0.62629841],\n",
       "       [0.57930775, 0.00633047, 0.21280304],\n",
       "       [0.02572694, 0.63440467, 0.38421583]])"
      ]
     },
     "execution_count": 55,
     "metadata": {},
     "output_type": "execute_result"
    }
   ],
   "source": [
    "#random decimal number\n",
    "np.random.rand(4,3)"
   ]
  },
  {
   "cell_type": "code",
   "execution_count": 64,
   "id": "f0ceba3a",
   "metadata": {},
   "outputs": [
    {
     "data": {
      "text/plain": [
       "array([[2, 1, 2],\n",
       "       [1, 2, 1],\n",
       "       [2, 2, 0]])"
      ]
     },
     "execution_count": 64,
     "metadata": {},
     "output_type": "execute_result"
    }
   ],
   "source": [
    "#random integer number\n",
    "np.random.randint(3,size=(3,3))\n",
    "#the front of size is will give the random value in the array"
   ]
  },
  {
   "cell_type": "code",
   "execution_count": 66,
   "id": "8a225d97",
   "metadata": {},
   "outputs": [
    {
     "data": {
      "text/plain": [
       "array([[1., 0., 0., 0.],\n",
       "       [0., 1., 0., 0.],\n",
       "       [0., 0., 1., 0.],\n",
       "       [0., 0., 0., 1.]])"
      ]
     },
     "execution_count": 66,
     "metadata": {},
     "output_type": "execute_result"
    }
   ],
   "source": [
    "#identity matrix\n",
    "np.identity(4)"
   ]
  },
  {
   "cell_type": "code",
   "execution_count": null,
   "id": "b584a280",
   "metadata": {},
   "outputs": [],
   "source": []
  }
 ],
 "metadata": {
  "kernelspec": {
   "display_name": "Python 3 (ipykernel)",
   "language": "python",
   "name": "python3"
  },
  "language_info": {
   "codemirror_mode": {
    "name": "ipython",
    "version": 3
   },
   "file_extension": ".py",
   "mimetype": "text/x-python",
   "name": "python",
   "nbconvert_exporter": "python",
   "pygments_lexer": "ipython3",
   "version": "3.10.6"
  }
 },
 "nbformat": 4,
 "nbformat_minor": 5
}
